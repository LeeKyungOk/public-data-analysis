{
  "nbformat": 4,
  "nbformat_minor": 0,
  "metadata": {
    "colab": {
      "provenance": [],
      "toc_visible": true
    },
    "kernelspec": {
      "name": "python3",
      "display_name": "Python 3"
    },
    "language_info": {
      "name": "python"
    }
  },
  "cells": [
    {
      "cell_type": "markdown",
      "source": [
        "# Numpy Library와 Array\n"
      ],
      "metadata": {
        "id": "nMI2gXHvJed6"
      }
    },
    {
      "cell_type": "markdown",
      "source": [
        "# Numpy Library 설치"
      ],
      "metadata": {
        "id": "_VyYLvkkJ7Ar"
      }
    },
    {
      "cell_type": "code",
      "source": [
        "pip uninstall numpy --y"
      ],
      "metadata": {
        "colab": {
          "base_uri": "https://localhost:8080/"
        },
        "id": "NsLVXVClY0KG",
        "outputId": "63a509b0-a6de-4890-f65b-da82e01f8aaa"
      },
      "execution_count": null,
      "outputs": [
        {
          "output_type": "stream",
          "name": "stdout",
          "text": [
            "Found existing installation: numpy 1.26.4\n",
            "Uninstalling numpy-1.26.4:\n",
            "  Successfully uninstalled numpy-1.26.4\n"
          ]
        }
      ]
    },
    {
      "cell_type": "code",
      "execution_count": null,
      "metadata": {
        "colab": {
          "base_uri": "https://localhost:8080/",
          "height": 372
        },
        "id": "yOUBdP2zJYJ8",
        "outputId": "881b2418-5652-4350-a7e1-ff21b72a7129"
      },
      "outputs": [
        {
          "output_type": "stream",
          "name": "stdout",
          "text": [
            "Collecting numpy==1.23.5\n",
            "  Downloading numpy-1.23.5-cp310-cp310-manylinux_2_17_x86_64.manylinux2014_x86_64.whl.metadata (2.3 kB)\n",
            "Downloading numpy-1.23.5-cp310-cp310-manylinux_2_17_x86_64.manylinux2014_x86_64.whl (17.1 MB)\n",
            "\u001b[2K   \u001b[90m━━━━━━━━━━━━━━━━━━━━━━━━━━━━━━━━━━━━━━━━\u001b[0m \u001b[32m17.1/17.1 MB\u001b[0m \u001b[31m64.6 MB/s\u001b[0m eta \u001b[36m0:00:00\u001b[0m\n",
            "\u001b[?25hInstalling collected packages: numpy\n",
            "\u001b[31mERROR: pip's dependency resolver does not currently take into account all the packages that are installed. This behaviour is the source of the following dependency conflicts.\n",
            "albucore 0.0.19 requires numpy>=1.24.4, but you have numpy 1.23.5 which is incompatible.\n",
            "albumentations 1.4.20 requires numpy>=1.24.4, but you have numpy 1.23.5 which is incompatible.\n",
            "bigframes 1.26.0 requires numpy>=1.24.0, but you have numpy 1.23.5 which is incompatible.\n",
            "chex 0.1.87 requires numpy>=1.24.1, but you have numpy 1.23.5 which is incompatible.\n",
            "jax 0.4.33 requires numpy>=1.24, but you have numpy 1.23.5 which is incompatible.\n",
            "jaxlib 0.4.33 requires numpy>=1.24, but you have numpy 1.23.5 which is incompatible.\n",
            "xarray 2024.10.0 requires numpy>=1.24, but you have numpy 1.23.5 which is incompatible.\u001b[0m\u001b[31m\n",
            "\u001b[0mSuccessfully installed numpy-1.23.5\n"
          ]
        },
        {
          "output_type": "display_data",
          "data": {
            "application/vnd.colab-display-data+json": {
              "pip_warning": {
                "packages": [
                  "numpy"
                ]
              },
              "id": "096a200ed01c44d996759adaed4e7efd"
            }
          },
          "metadata": {}
        }
      ],
      "source": [
        "pip install numpy==1.23.5"
      ]
    },
    {
      "cell_type": "code",
      "source": [
        "pip list | grep numpy"
      ],
      "metadata": {
        "colab": {
          "base_uri": "https://localhost:8080/"
        },
        "id": "FJ8thxnvZJYy",
        "outputId": "1b417ea2-3b48-4821-b300-4385699b806c"
      },
      "execution_count": null,
      "outputs": [
        {
          "output_type": "stream",
          "name": "stdout",
          "text": [
            "numpy                              1.23.5\n"
          ]
        }
      ]
    },
    {
      "cell_type": "markdown",
      "source": [
        "# Library Load\n",
        "- numpy libirary는 load할때 as를 붙여 np라는 별칭으로 import 합니다."
      ],
      "metadata": {
        "id": "MThheOlwJ-Lg"
      }
    },
    {
      "cell_type": "code",
      "source": [
        "import numpy as np"
      ],
      "metadata": {
        "id": "UOm0GhiKJ90i"
      },
      "execution_count": null,
      "outputs": []
    },
    {
      "cell_type": "markdown",
      "source": [
        "# Array 생성\n",
        "```python\n",
        "np.array(data)\n",
        "```"
      ],
      "metadata": {
        "id": "DSfKbn5gK9kx"
      }
    },
    {
      "cell_type": "markdown",
      "source": [
        "## (1)1차원 Array 생성"
      ],
      "metadata": {
        "id": "8iBE6QGFLBot"
      }
    },
    {
      "cell_type": "code",
      "source": [
        "arr_1 = np.array([1,2,3,4])"
      ],
      "metadata": {
        "id": "G_05IPX1Kwh_"
      },
      "execution_count": null,
      "outputs": []
    },
    {
      "cell_type": "code",
      "source": [
        "print(arr_1)"
      ],
      "metadata": {
        "colab": {
          "base_uri": "https://localhost:8080/"
        },
        "id": "qqhspldyLJJw",
        "outputId": "fbcd5b79-9283-468c-c13e-c87335b00a48"
      },
      "execution_count": null,
      "outputs": [
        {
          "output_type": "stream",
          "name": "stdout",
          "text": [
            "[1 2 3 4]\n"
          ]
        }
      ]
    },
    {
      "cell_type": "code",
      "source": [
        "type(arr_1)"
      ],
      "metadata": {
        "colab": {
          "base_uri": "https://localhost:8080/"
        },
        "id": "BJfjIyB-ZnyZ",
        "outputId": "c09fb538-cc0b-403b-f2cc-2463e277c0df"
      },
      "execution_count": null,
      "outputs": [
        {
          "output_type": "execute_result",
          "data": {
            "text/plain": [
              "numpy.ndarray"
            ]
          },
          "metadata": {},
          "execution_count": 5
        }
      ]
    },
    {
      "cell_type": "markdown",
      "source": [
        "## (2)2차원 Array 생성"
      ],
      "metadata": {
        "id": "g_bnDGz_LEgL"
      }
    },
    {
      "cell_type": "code",
      "source": [
        "arr_2 = np.array([\n",
        "    [1,2,3],\n",
        "    [2,3,4]\n",
        "])"
      ],
      "metadata": {
        "id": "VQIayaS6LEUT"
      },
      "execution_count": null,
      "outputs": []
    },
    {
      "cell_type": "code",
      "source": [
        "print(arr_2)"
      ],
      "metadata": {
        "colab": {
          "base_uri": "https://localhost:8080/"
        },
        "id": "7nsQLKHjLIi-",
        "outputId": "d90a1031-db74-4a50-cc39-c7a6c0fcbf80"
      },
      "execution_count": null,
      "outputs": [
        {
          "output_type": "stream",
          "name": "stdout",
          "text": [
            "[[1 2 3]\n",
            " [2 3 4]]\n"
          ]
        }
      ]
    },
    {
      "cell_type": "markdown",
      "source": [
        "## (3)3차원 Array 생성"
      ],
      "metadata": {
        "id": "Vuv0hGHPLLpI"
      }
    },
    {
      "cell_type": "code",
      "source": [
        "arr_3 = np.array([\n",
        "    [[1,2,3], [3,4,5], [10,20,30]],\n",
        "    [[4,5,6], [7,9,8], [15,54,78]],\n",
        "    [[1,2,3], [3,4,5], [5121,999,989.0]]\n",
        "])"
      ],
      "metadata": {
        "id": "xRIQDBU5LK-X"
      },
      "execution_count": null,
      "outputs": []
    },
    {
      "cell_type": "code",
      "source": [
        "print(arr_3)"
      ],
      "metadata": {
        "colab": {
          "base_uri": "https://localhost:8080/"
        },
        "id": "ro8bRkrHLZxn",
        "outputId": "8cc63753-1c36-4727-b77e-b35f5e47633d"
      },
      "execution_count": null,
      "outputs": [
        {
          "output_type": "stream",
          "name": "stdout",
          "text": [
            "[[[1.000e+00 2.000e+00 3.000e+00]\n",
            "  [3.000e+00 4.000e+00 5.000e+00]\n",
            "  [1.000e+01 2.000e+01 3.000e+01]]\n",
            "\n",
            " [[4.000e+00 5.000e+00 6.000e+00]\n",
            "  [7.000e+00 9.000e+00 8.000e+00]\n",
            "  [1.500e+01 5.400e+01 7.800e+01]]\n",
            "\n",
            " [[1.000e+00 2.000e+00 3.000e+00]\n",
            "  [3.000e+00 4.000e+00 5.000e+00]\n",
            "  [5.121e+03 9.990e+02 9.890e+02]]]\n"
          ]
        }
      ]
    },
    {
      "cell_type": "markdown",
      "source": [
        "## (4)1로 채워진 Array 생성\n",
        "```python\n",
        "np.ones(shape, 데이터타입)\n",
        "```"
      ],
      "metadata": {
        "id": "BeMfRizTMPNw"
      }
    },
    {
      "cell_type": "code",
      "source": [
        "arr_4 = np.ones((3,4), int)"
      ],
      "metadata": {
        "id": "HRMoKvKSMO7P"
      },
      "execution_count": null,
      "outputs": []
    },
    {
      "cell_type": "code",
      "source": [
        "print(arr_4)"
      ],
      "metadata": {
        "colab": {
          "base_uri": "https://localhost:8080/"
        },
        "id": "etRCA3lMMXHI",
        "outputId": "2864c03d-36a2-46df-f5a2-1f44fe135e88"
      },
      "execution_count": null,
      "outputs": [
        {
          "output_type": "stream",
          "name": "stdout",
          "text": [
            "[[1 1 1 1]\n",
            " [1 1 1 1]\n",
            " [1 1 1 1]]\n"
          ]
        }
      ]
    },
    {
      "cell_type": "markdown",
      "source": [
        "## (5)0으로 채워진 Array 생성\n",
        "```python\n",
        "np.zeros(shape, 데이터타입)\n",
        "```"
      ],
      "metadata": {
        "id": "YmcBXZa3MYqY"
      }
    },
    {
      "cell_type": "code",
      "source": [
        "arr_5 = np.zeros((3,5,5), 'float')"
      ],
      "metadata": {
        "id": "Z-nPMV9NMV0H"
      },
      "execution_count": null,
      "outputs": []
    },
    {
      "cell_type": "code",
      "source": [
        "print(arr_5)"
      ],
      "metadata": {
        "colab": {
          "base_uri": "https://localhost:8080/"
        },
        "id": "1Uo4Zq4LMcsn",
        "outputId": "22c09204-181f-4b57-d805-7809dedeb3e4"
      },
      "execution_count": null,
      "outputs": [
        {
          "output_type": "stream",
          "name": "stdout",
          "text": [
            "[[[0. 0. 0. 0. 0.]\n",
            "  [0. 0. 0. 0. 0.]\n",
            "  [0. 0. 0. 0. 0.]\n",
            "  [0. 0. 0. 0. 0.]\n",
            "  [0. 0. 0. 0. 0.]]\n",
            "\n",
            " [[0. 0. 0. 0. 0.]\n",
            "  [0. 0. 0. 0. 0.]\n",
            "  [0. 0. 0. 0. 0.]\n",
            "  [0. 0. 0. 0. 0.]\n",
            "  [0. 0. 0. 0. 0.]]\n",
            "\n",
            " [[0. 0. 0. 0. 0.]\n",
            "  [0. 0. 0. 0. 0.]\n",
            "  [0. 0. 0. 0. 0.]\n",
            "  [0. 0. 0. 0. 0.]\n",
            "  [0. 0. 0. 0. 0.]]]\n"
          ]
        }
      ]
    },
    {
      "cell_type": "markdown",
      "source": [
        "## (6)임의의 값으로 채워진 Array 생성"
      ],
      "metadata": {
        "id": "9ehJ2N2fMh6l"
      }
    },
    {
      "cell_type": "code",
      "source": [
        "arr_6 = np.random.random((4,5))"
      ],
      "metadata": {
        "id": "mOew9-BfMkzt"
      },
      "execution_count": null,
      "outputs": []
    },
    {
      "cell_type": "code",
      "source": [
        "print(arr_6)"
      ],
      "metadata": {
        "colab": {
          "base_uri": "https://localhost:8080/"
        },
        "id": "So39jUKpMpsf",
        "outputId": "f54ef8a7-bf19-42b1-df36-eaac5c4a383a"
      },
      "execution_count": null,
      "outputs": [
        {
          "output_type": "stream",
          "name": "stdout",
          "text": [
            "[[0.59687376 0.96901757 0.59050628 0.25164658 0.5717859 ]\n",
            " [0.45719433 0.98344015 0.48174382 0.11555954 0.26156716]\n",
            " [0.2239679  0.4907871  0.63486947 0.20578387 0.44663686]\n",
            " [0.32219367 0.48051619 0.09723781 0.19861686 0.79377178]]\n"
          ]
        }
      ]
    },
    {
      "cell_type": "markdown",
      "source": [
        "# Array 정보 확인하기"
      ],
      "metadata": {
        "id": "cTfNMHOHLdFB"
      }
    },
    {
      "cell_type": "markdown",
      "source": [
        "## (1)Array 모양 확인하기\n"
      ],
      "metadata": {
        "id": "1pVu6UGqLoc1"
      }
    },
    {
      "cell_type": "code",
      "source": [
        "print(arr_1.shape)"
      ],
      "metadata": {
        "colab": {
          "base_uri": "https://localhost:8080/"
        },
        "id": "ErgNrpmbLbBG",
        "outputId": "7cecde33-80f0-4884-8123-55cee9e9f1af"
      },
      "execution_count": null,
      "outputs": [
        {
          "output_type": "stream",
          "name": "stdout",
          "text": [
            "(4,)\n"
          ]
        }
      ]
    },
    {
      "cell_type": "code",
      "source": [
        "print(arr_2.shape)"
      ],
      "metadata": {
        "colab": {
          "base_uri": "https://localhost:8080/"
        },
        "id": "H552YFbELrxL",
        "outputId": "462a6849-1c8f-40fa-e252-fb61938983f2"
      },
      "execution_count": null,
      "outputs": [
        {
          "output_type": "stream",
          "name": "stdout",
          "text": [
            "(2, 3)\n"
          ]
        }
      ]
    },
    {
      "cell_type": "code",
      "source": [
        "print(arr_3.shape)"
      ],
      "metadata": {
        "colab": {
          "base_uri": "https://localhost:8080/"
        },
        "id": "QxKj28m2LsgZ",
        "outputId": "7ff0698d-1633-4fa3-9183-c3d648f09ca8"
      },
      "execution_count": null,
      "outputs": [
        {
          "output_type": "stream",
          "name": "stdout",
          "text": [
            "(3, 3, 3)\n"
          ]
        }
      ]
    },
    {
      "cell_type": "markdown",
      "source": [
        "## (2)Array dtype 확인하기\n"
      ],
      "metadata": {
        "id": "4AG3zgh0Lwfz"
      }
    },
    {
      "cell_type": "code",
      "source": [
        "print(arr_1.dtype)"
      ],
      "metadata": {
        "colab": {
          "base_uri": "https://localhost:8080/"
        },
        "id": "7Mqx9u52LtOU",
        "outputId": "40080e5a-42f2-41c9-844c-d2d5243068ef"
      },
      "execution_count": null,
      "outputs": [
        {
          "output_type": "stream",
          "name": "stdout",
          "text": [
            "int64\n"
          ]
        }
      ]
    },
    {
      "cell_type": "code",
      "source": [
        "print(arr_2.dtype)"
      ],
      "metadata": {
        "colab": {
          "base_uri": "https://localhost:8080/"
        },
        "id": "8I9bgDSFL4j7",
        "outputId": "975bb352-4ebc-4cd2-ffec-01a202932feb"
      },
      "execution_count": null,
      "outputs": [
        {
          "output_type": "stream",
          "name": "stdout",
          "text": [
            "int64\n"
          ]
        }
      ]
    },
    {
      "cell_type": "code",
      "source": [
        "print(arr_3.dtype)"
      ],
      "metadata": {
        "colab": {
          "base_uri": "https://localhost:8080/"
        },
        "id": "UfPiM_UqL6xa",
        "outputId": "519f4c49-ba23-4e2c-a27f-460876478d4f"
      },
      "execution_count": null,
      "outputs": [
        {
          "output_type": "stream",
          "name": "stdout",
          "text": [
            "float64\n"
          ]
        }
      ]
    },
    {
      "cell_type": "code",
      "source": [
        "print(arr_3)"
      ],
      "metadata": {
        "colab": {
          "base_uri": "https://localhost:8080/"
        },
        "id": "gTaEjoMhMJ8d",
        "outputId": "971e2ca3-e167-46f1-cad2-54781c90b521"
      },
      "execution_count": null,
      "outputs": [
        {
          "output_type": "stream",
          "name": "stdout",
          "text": [
            "[[[1.000e+00 2.000e+00 3.000e+00]\n",
            "  [3.000e+00 4.000e+00 5.000e+00]\n",
            "  [1.000e+01 2.000e+01 3.000e+01]]\n",
            "\n",
            " [[4.000e+00 5.000e+00 6.000e+00]\n",
            "  [7.000e+00 9.000e+00 8.000e+00]\n",
            "  [1.500e+01 5.400e+01 7.800e+01]]\n",
            "\n",
            " [[1.000e+00 2.000e+00 3.000e+00]\n",
            "  [3.000e+00 4.000e+00 5.000e+00]\n",
            "  [5.121e+03 9.990e+02 9.890e+02]]]\n"
          ]
        }
      ]
    },
    {
      "cell_type": "markdown",
      "source": [
        "# Array Data Handling"
      ],
      "metadata": {
        "id": "FuFaqnEp7hFD"
      }
    },
    {
      "cell_type": "markdown",
      "source": [
        "## (1)Array의 Dtype 변경하기\n"
      ],
      "metadata": {
        "id": "gsoKc7FPM13P"
      }
    },
    {
      "cell_type": "code",
      "source": [
        "arr_3.astype(np.int8)"
      ],
      "metadata": {
        "colab": {
          "base_uri": "https://localhost:8080/"
        },
        "id": "9pEFGfgohjAQ",
        "outputId": "6b7c8b28-cf60-4331-ad63-cdd993e5418a"
      },
      "execution_count": null,
      "outputs": [
        {
          "output_type": "execute_result",
          "data": {
            "text/plain": [
              "array([[[  1,   2,   3],\n",
              "        [  3,   4,   5],\n",
              "        [ 10,  20,  30]],\n",
              "\n",
              "       [[  4,   5,   6],\n",
              "        [  7,   9,   8],\n",
              "        [ 15,  54,  78]],\n",
              "\n",
              "       [[  1,   2,   3],\n",
              "        [  3,   4,   5],\n",
              "        [  1, -25, -35]]], dtype=int8)"
            ]
          },
          "metadata": {},
          "execution_count": 26
        }
      ]
    },
    {
      "cell_type": "code",
      "source": [
        "arr_3"
      ],
      "metadata": {
        "colab": {
          "base_uri": "https://localhost:8080/"
        },
        "id": "zoWqH6CuiAEJ",
        "outputId": "1ba863fa-d274-4178-c699-18e768ae0bee"
      },
      "execution_count": null,
      "outputs": [
        {
          "output_type": "execute_result",
          "data": {
            "text/plain": [
              "array([[[1.000e+00, 2.000e+00, 3.000e+00],\n",
              "        [3.000e+00, 4.000e+00, 5.000e+00],\n",
              "        [1.000e+01, 2.000e+01, 3.000e+01]],\n",
              "\n",
              "       [[4.000e+00, 5.000e+00, 6.000e+00],\n",
              "        [7.000e+00, 9.000e+00, 8.000e+00],\n",
              "        [1.500e+01, 5.400e+01, 7.800e+01]],\n",
              "\n",
              "       [[1.000e+00, 2.000e+00, 3.000e+00],\n",
              "        [3.000e+00, 4.000e+00, 5.000e+00],\n",
              "        [5.121e+03, 9.990e+02, 9.890e+02]]])"
            ]
          },
          "metadata": {},
          "execution_count": 27
        }
      ]
    },
    {
      "cell_type": "code",
      "source": [
        "arr_3 = arr_3.astype(\"int\")"
      ],
      "metadata": {
        "id": "OlQytBMUMKlp"
      },
      "execution_count": null,
      "outputs": []
    },
    {
      "cell_type": "code",
      "source": [
        "print(arr_3.dtype)"
      ],
      "metadata": {
        "colab": {
          "base_uri": "https://localhost:8080/"
        },
        "id": "VhSW2q64M8D0",
        "outputId": "c8ccd33f-31f4-4d86-b715-41af4d082262"
      },
      "execution_count": null,
      "outputs": [
        {
          "output_type": "stream",
          "name": "stdout",
          "text": [
            "int64\n"
          ]
        }
      ]
    },
    {
      "cell_type": "code",
      "source": [
        "print(arr_3)"
      ],
      "metadata": {
        "colab": {
          "base_uri": "https://localhost:8080/"
        },
        "id": "b_DP4wTrM88c",
        "outputId": "ae983735-d538-4eb6-dece-81a36d92e38f"
      },
      "execution_count": null,
      "outputs": [
        {
          "output_type": "stream",
          "name": "stdout",
          "text": [
            "[[[   1    2    3]\n",
            "  [   3    4    5]\n",
            "  [  10   20   30]]\n",
            "\n",
            " [[   4    5    6]\n",
            "  [   7    9    8]\n",
            "  [  15   54   78]]\n",
            "\n",
            " [[   1    2    3]\n",
            "  [   3    4    5]\n",
            "  [5121  999  989]]]\n"
          ]
        }
      ]
    },
    {
      "cell_type": "markdown",
      "source": [
        "## (2)Array Shape 변경하기"
      ],
      "metadata": {
        "id": "uw0pYurd8Hob"
      }
    },
    {
      "cell_type": "markdown",
      "source": [
        "### 행, 열을 명시적으로 입력하여 shape 변경"
      ],
      "metadata": {
        "id": "w76zFDBLlbEU"
      }
    },
    {
      "cell_type": "code",
      "source": [
        "arr = np.array([\n",
        "    [1,2,3,4,5,6],\n",
        "    [10,20,30,40,50,60],\n",
        "    [100,50,35,48,64,70],\n",
        "    [10,20,30,40,50,60]\n",
        "])"
      ],
      "metadata": {
        "id": "Ij-WXGq_M9jT"
      },
      "execution_count": null,
      "outputs": []
    },
    {
      "cell_type": "code",
      "source": [
        "arr.shape"
      ],
      "metadata": {
        "colab": {
          "base_uri": "https://localhost:8080/"
        },
        "id": "qDvFft-H8j0K",
        "outputId": "83542241-6a6a-4d3b-a1b7-41d880dc8704"
      },
      "execution_count": null,
      "outputs": [
        {
          "output_type": "execute_result",
          "data": {
            "text/plain": [
              "(4, 6)"
            ]
          },
          "metadata": {},
          "execution_count": 39
        }
      ]
    },
    {
      "cell_type": "code",
      "source": [
        "arr.reshape(3,8)"
      ],
      "metadata": {
        "colab": {
          "base_uri": "https://localhost:8080/"
        },
        "id": "TMOxHI8WiVen",
        "outputId": "96068588-77cf-4864-c3b6-8b9e5478911a"
      },
      "execution_count": null,
      "outputs": [
        {
          "output_type": "execute_result",
          "data": {
            "text/plain": [
              "array([[  1,   2,   3,   4,   5,   6,  10,  20],\n",
              "       [ 30,  40,  50,  60, 100,  50,  35,  48],\n",
              "       [ 64,  70,  10,  20,  30,  40,  50,  60]])"
            ]
          },
          "metadata": {},
          "execution_count": 33
        }
      ]
    },
    {
      "cell_type": "code",
      "source": [
        "arr"
      ],
      "metadata": {
        "colab": {
          "base_uri": "https://localhost:8080/"
        },
        "id": "2NGcwGWXih0Q",
        "outputId": "b641ef2f-4a44-4c60-8d4c-d1b007449252"
      },
      "execution_count": null,
      "outputs": [
        {
          "output_type": "execute_result",
          "data": {
            "text/plain": [
              "array([[  1,   2,   3,   4,   5,   6],\n",
              "       [ 10,  20,  30,  40,  50,  60],\n",
              "       [100,  50,  35,  48,  64,  70],\n",
              "       [ 10,  20,  30,  40,  50,  60]])"
            ]
          },
          "metadata": {},
          "execution_count": 34
        }
      ]
    },
    {
      "cell_type": "code",
      "source": [
        "arr_2 = arr.reshape(3,8)"
      ],
      "metadata": {
        "id": "ZS8eNWUb8QdL"
      },
      "execution_count": null,
      "outputs": []
    },
    {
      "cell_type": "code",
      "source": [
        "arr.reshape(5,5)"
      ],
      "metadata": {
        "colab": {
          "base_uri": "https://localhost:8080/",
          "height": 146
        },
        "id": "GBAMwEkTi806",
        "outputId": "6e5f46f9-a37f-441d-fea3-5665a91c510b"
      },
      "execution_count": null,
      "outputs": [
        {
          "output_type": "error",
          "ename": "ValueError",
          "evalue": "cannot reshape array of size 24 into shape (5,5)",
          "traceback": [
            "\u001b[0;31m---------------------------------------------------------------------------\u001b[0m",
            "\u001b[0;31mValueError\u001b[0m                                Traceback (most recent call last)",
            "\u001b[0;32m<ipython-input-35-5e6094aeb4ce>\u001b[0m in \u001b[0;36m<cell line: 1>\u001b[0;34m()\u001b[0m\n\u001b[0;32m----> 1\u001b[0;31m \u001b[0marr\u001b[0m\u001b[0;34m.\u001b[0m\u001b[0mreshape\u001b[0m\u001b[0;34m(\u001b[0m\u001b[0;36m5\u001b[0m\u001b[0;34m,\u001b[0m\u001b[0;36m5\u001b[0m\u001b[0;34m)\u001b[0m\u001b[0;34m\u001b[0m\u001b[0;34m\u001b[0m\u001b[0m\n\u001b[0m",
            "\u001b[0;31mValueError\u001b[0m: cannot reshape array of size 24 into shape (5,5)"
          ]
        }
      ]
    },
    {
      "cell_type": "code",
      "source": [
        "print(arr_2)"
      ],
      "metadata": {
        "colab": {
          "base_uri": "https://localhost:8080/"
        },
        "id": "mE3ooONIlQSP",
        "outputId": "03bc90e6-df2b-445d-88c2-a26c1d35cedc"
      },
      "execution_count": null,
      "outputs": [
        {
          "output_type": "stream",
          "name": "stdout",
          "text": [
            "[[  1   2   3   4   5   6  10  20]\n",
            " [ 30  40  50  60 100  50  35  48]\n",
            " [ 64  70  10  20  30  40  50  60]]\n"
          ]
        }
      ]
    },
    {
      "cell_type": "code",
      "source": [
        "print(arr_2.shape)"
      ],
      "metadata": {
        "colab": {
          "base_uri": "https://localhost:8080/"
        },
        "id": "EYeeDkjQlPEn",
        "outputId": "5d50ffd9-57d9-43eb-af55-c09366a0e87f"
      },
      "execution_count": null,
      "outputs": [
        {
          "output_type": "stream",
          "name": "stdout",
          "text": [
            "(3, 8)\n"
          ]
        }
      ]
    },
    {
      "cell_type": "markdown",
      "source": [
        "### 행, 열 중 하나의 값만 넣어서 shape 변경"
      ],
      "metadata": {
        "id": "4GugC1JilVN6"
      }
    },
    {
      "cell_type": "code",
      "source": [
        "arr_3 = arr.reshape(2, -1)"
      ],
      "metadata": {
        "id": "A2TPZrEzlR6Z"
      },
      "execution_count": null,
      "outputs": []
    },
    {
      "cell_type": "code",
      "source": [
        "print(arr_3.shape)"
      ],
      "metadata": {
        "colab": {
          "base_uri": "https://localhost:8080/"
        },
        "id": "DAKsx4L9ljHI",
        "outputId": "d1771836-0fd8-4c03-84cc-42d0f1e942c7"
      },
      "execution_count": null,
      "outputs": [
        {
          "output_type": "stream",
          "name": "stdout",
          "text": [
            "(2, 12)\n"
          ]
        }
      ]
    },
    {
      "cell_type": "code",
      "source": [
        "arr_4 = arr_2.reshape(-1, 6)"
      ],
      "metadata": {
        "id": "jah8WN8_lj8n"
      },
      "execution_count": null,
      "outputs": []
    },
    {
      "cell_type": "code",
      "source": [
        "print(arr_4.shape)"
      ],
      "metadata": {
        "colab": {
          "base_uri": "https://localhost:8080/"
        },
        "id": "FZIVoPZulms3",
        "outputId": "bcdefa85-a56d-4a40-d127-af90ecfe8445"
      },
      "execution_count": null,
      "outputs": [
        {
          "output_type": "stream",
          "name": "stdout",
          "text": [
            "(4, 6)\n"
          ]
        }
      ]
    },
    {
      "cell_type": "markdown",
      "source": [
        "## (3)Array 인덱싱"
      ],
      "metadata": {
        "id": "_VDAK5R5l3ni"
      }
    },
    {
      "cell_type": "code",
      "source": [
        "arr = np.array([[ 7, 34, 94, 24, 60],\n",
        "                [56, 34, 87, 59, 66],\n",
        "                [14, 44, 19, 51, 78],\n",
        "                [90, 22, 43, 91, 62],\n",
        "                [84, 78, 22,  8, 62]])"
      ],
      "metadata": {
        "id": "qjr3sa74mIcQ"
      },
      "execution_count": null,
      "outputs": []
    },
    {
      "cell_type": "markdown",
      "source": [
        "### array row 인덱싱"
      ],
      "metadata": {
        "id": "CTRHq5EEmY5j"
      }
    },
    {
      "cell_type": "code",
      "source": [
        "arr[3]"
      ],
      "metadata": {
        "colab": {
          "base_uri": "https://localhost:8080/"
        },
        "id": "95kV2P-Wlns-",
        "outputId": "f17d3e2a-2001-407a-f461-e475041c7fcf"
      },
      "execution_count": null,
      "outputs": [
        {
          "output_type": "execute_result",
          "data": {
            "text/plain": [
              "array([90, 22, 43, 91, 62])"
            ]
          },
          "metadata": {},
          "execution_count": 44
        }
      ]
    },
    {
      "cell_type": "code",
      "source": [
        "arr[0]"
      ],
      "metadata": {
        "colab": {
          "base_uri": "https://localhost:8080/"
        },
        "id": "CBxjGXh7mcUd",
        "outputId": "42050d6a-bf03-40a0-c849-b88f7b4ac430"
      },
      "execution_count": null,
      "outputs": [
        {
          "output_type": "execute_result",
          "data": {
            "text/plain": [
              "array([ 7, 34, 94, 24, 60])"
            ]
          },
          "metadata": {},
          "execution_count": 22
        }
      ]
    },
    {
      "cell_type": "markdown",
      "source": [
        "### arr row & column 인덱싱"
      ],
      "metadata": {
        "id": "TC7AYMbNmfCn"
      }
    },
    {
      "cell_type": "code",
      "source": [
        "arr[3,3]"
      ],
      "metadata": {
        "colab": {
          "base_uri": "https://localhost:8080/"
        },
        "id": "wsR0BEfumeX6",
        "outputId": "30e0dbcc-bf83-462d-c149-f4220ed4cdb3"
      },
      "execution_count": null,
      "outputs": [
        {
          "output_type": "execute_result",
          "data": {
            "text/plain": [
              "91"
            ]
          },
          "metadata": {},
          "execution_count": 45
        }
      ]
    },
    {
      "cell_type": "code",
      "source": [
        "arr[3][3]"
      ],
      "metadata": {
        "colab": {
          "base_uri": "https://localhost:8080/"
        },
        "id": "9KfoyZBcmi2Y",
        "outputId": "6612e1e2-5d2d-4ed9-8592-800954a04065"
      },
      "execution_count": null,
      "outputs": [
        {
          "output_type": "execute_result",
          "data": {
            "text/plain": [
              "91"
            ]
          },
          "metadata": {},
          "execution_count": 46
        }
      ]
    },
    {
      "cell_type": "code",
      "source": [
        "arr[-2][-2]"
      ],
      "metadata": {
        "colab": {
          "base_uri": "https://localhost:8080/"
        },
        "id": "MXbcUYNJqPS7",
        "outputId": "7902c6ac-82a6-4af6-d17d-4b5783f70e05"
      },
      "execution_count": null,
      "outputs": [
        {
          "output_type": "execute_result",
          "data": {
            "text/plain": [
              "91"
            ]
          },
          "metadata": {},
          "execution_count": 26
        }
      ]
    },
    {
      "cell_type": "markdown",
      "source": [
        "## (4)Array 슬라이싱"
      ],
      "metadata": {
        "id": "igpoEixPqRpd"
      }
    },
    {
      "cell_type": "code",
      "source": [
        "arr= np.array([[98, 73, 15, 74,  5],\n",
        "              [16, 26, 75, 79, 30],\n",
        "              [39, 65, 54, 72, 82],\n",
        "              [70, 63, 79, 24, 86],\n",
        "              [91, 13, 28, 87, 52]])"
      ],
      "metadata": {
        "id": "ncXM2wbUqQ1B"
      },
      "execution_count": null,
      "outputs": []
    },
    {
      "cell_type": "markdown",
      "source": [
        "### array row slicing"
      ],
      "metadata": {
        "id": "5po77S2uq719"
      }
    },
    {
      "cell_type": "code",
      "source": [
        "arr[0:3]"
      ],
      "metadata": {
        "colab": {
          "base_uri": "https://localhost:8080/"
        },
        "id": "V_8YwRrCqDH5",
        "outputId": "c16258f9-cb54-4566-f4e2-ef30a6252154"
      },
      "execution_count": null,
      "outputs": [
        {
          "output_type": "execute_result",
          "data": {
            "text/plain": [
              "array([[98, 73, 15, 74,  5],\n",
              "       [16, 26, 75, 79, 30],\n",
              "       [39, 65, 54, 72, 82]])"
            ]
          },
          "metadata": {},
          "execution_count": 48
        }
      ]
    },
    {
      "cell_type": "code",
      "source": [
        "arr[2:-1]"
      ],
      "metadata": {
        "colab": {
          "base_uri": "https://localhost:8080/"
        },
        "id": "wwvXA7JMqImy",
        "outputId": "545db0da-7caf-481b-933f-6a6272885747"
      },
      "execution_count": null,
      "outputs": [
        {
          "output_type": "execute_result",
          "data": {
            "text/plain": [
              "array([[39, 65, 54, 72, 82],\n",
              "       [70, 63, 79, 24, 86]])"
            ]
          },
          "metadata": {},
          "execution_count": 30
        }
      ]
    },
    {
      "cell_type": "markdown",
      "source": [
        "### array column slicing"
      ],
      "metadata": {
        "id": "sVhWuRsgq_Yc"
      }
    },
    {
      "cell_type": "code",
      "source": [
        "arr[:, 2:-1]"
      ],
      "metadata": {
        "colab": {
          "base_uri": "https://localhost:8080/"
        },
        "id": "EtEQjxaIm0Ao",
        "outputId": "19d4afe1-49a8-4810-ac8b-da2becbd8c0c"
      },
      "execution_count": null,
      "outputs": [
        {
          "output_type": "execute_result",
          "data": {
            "text/plain": [
              "array([[15, 74],\n",
              "       [75, 79],\n",
              "       [54, 72],\n",
              "       [79, 24],\n",
              "       [28, 87]])"
            ]
          },
          "metadata": {},
          "execution_count": 32
        }
      ]
    },
    {
      "cell_type": "markdown",
      "source": [
        "## (5)조건에 따라 Array 인덱싱하기"
      ],
      "metadata": {
        "id": "t7gcBqr7rG8j"
      }
    },
    {
      "cell_type": "code",
      "source": [
        "arr= np.array([[98, 73, 15, 74,  5],\n",
        "              [16, 26, 75, 79, 30],\n",
        "              [39, 65, 54, 72, 82],\n",
        "              [70, 63, 79, 24, 86],\n",
        "              [91, 13, 28, 87, 52]])"
      ],
      "metadata": {
        "id": "TROONH0ZrDIT"
      },
      "execution_count": null,
      "outputs": []
    },
    {
      "cell_type": "code",
      "source": [
        "arr[ arr > 40 ]"
      ],
      "metadata": {
        "colab": {
          "base_uri": "https://localhost:8080/"
        },
        "id": "H7PSOmMJraoC",
        "outputId": "759fe3fc-82a3-44c1-c712-9b9683216b73"
      },
      "execution_count": null,
      "outputs": [
        {
          "output_type": "execute_result",
          "data": {
            "text/plain": [
              "array([98, 73, 74, 75, 79, 65, 54, 72, 82, 70, 63, 79, 86, 91, 87, 52])"
            ]
          },
          "metadata": {},
          "execution_count": 34
        }
      ]
    },
    {
      "cell_type": "code",
      "source": [
        "arr[ arr < 20 ]"
      ],
      "metadata": {
        "colab": {
          "base_uri": "https://localhost:8080/"
        },
        "id": "0d22fLZXrdTf",
        "outputId": "1294fd85-3512-4309-9b7f-3d3ba13ce975"
      },
      "execution_count": null,
      "outputs": [
        {
          "output_type": "execute_result",
          "data": {
            "text/plain": [
              "array([15,  5, 16, 13])"
            ]
          },
          "metadata": {},
          "execution_count": 35
        }
      ]
    },
    {
      "cell_type": "code",
      "source": [
        "arr[(arr < 40) & (arr >20)]"
      ],
      "metadata": {
        "colab": {
          "base_uri": "https://localhost:8080/"
        },
        "id": "fbbBLZL9k2nl",
        "outputId": "c5ae36bd-252d-4391-ed37-380738dae923"
      },
      "execution_count": null,
      "outputs": [
        {
          "output_type": "execute_result",
          "data": {
            "text/plain": [
              "array([26, 30, 39, 24, 28])"
            ]
          },
          "metadata": {},
          "execution_count": 49
        }
      ]
    },
    {
      "cell_type": "code",
      "source": [
        "arr[(arr > 40) | (arr <20)]"
      ],
      "metadata": {
        "id": "zivWGWO_k9ku"
      },
      "execution_count": null,
      "outputs": []
    },
    {
      "cell_type": "markdown",
      "source": [
        "### 조건에 따라 Array의 값을 조작하기"
      ],
      "metadata": {
        "id": "4do93D06rkBe"
      }
    },
    {
      "cell_type": "code",
      "source": [
        "arr= np.array([[98, 73, 15, 74,  5],\n",
        "              [16, 26, 75, 79, 30],\n",
        "              [39, 65, 54, 72, 82],\n",
        "              [70, 63, 79, 24, 86],\n",
        "              [91, 13, 28, 87, 52]])"
      ],
      "metadata": {
        "id": "cjNij9NyrivZ"
      },
      "execution_count": null,
      "outputs": []
    },
    {
      "cell_type": "code",
      "source": [
        "arr_2 = np.where(arr> 70, 0, arr)"
      ],
      "metadata": {
        "id": "YFk3Tkdrryb5"
      },
      "execution_count": null,
      "outputs": []
    },
    {
      "cell_type": "code",
      "source": [
        "arr_2"
      ],
      "metadata": {
        "colab": {
          "base_uri": "https://localhost:8080/"
        },
        "id": "WVLHw5xGr3Ym",
        "outputId": "31fda5ad-b47c-4e25-e501-56554676315f"
      },
      "execution_count": null,
      "outputs": [
        {
          "output_type": "execute_result",
          "data": {
            "text/plain": [
              "array([[ 0,  0, 15,  0,  5],\n",
              "       [16, 26,  0,  0, 30],\n",
              "       [39, 65, 54,  0,  0],\n",
              "       [70, 63,  0, 24,  0],\n",
              "       [ 0, 13, 28,  0, 52]])"
            ]
          },
          "metadata": {},
          "execution_count": 59
        }
      ]
    },
    {
      "cell_type": "code",
      "source": [
        "arr_3 = np.where(arr>70, arr, 1)"
      ],
      "metadata": {
        "id": "0-p4znM6r3sP"
      },
      "execution_count": null,
      "outputs": []
    },
    {
      "cell_type": "code",
      "source": [
        "arr_3"
      ],
      "metadata": {
        "colab": {
          "base_uri": "https://localhost:8080/"
        },
        "id": "F6nZfsP9r7ij",
        "outputId": "a52800e3-3760-47fa-91d2-5de9fca0a6de"
      },
      "execution_count": null,
      "outputs": [
        {
          "output_type": "execute_result",
          "data": {
            "text/plain": [
              "array([[98, 73,  1, 74,  1],\n",
              "       [ 1,  1, 75, 79,  1],\n",
              "       [ 1,  1,  1, 72, 82],\n",
              "       [ 1,  1, 79,  1, 86],\n",
              "       [91,  1,  1, 87,  1]])"
            ]
          },
          "metadata": {},
          "execution_count": 41
        }
      ]
    },
    {
      "cell_type": "code",
      "source": [
        "arr_4 = np.where(arr> 70, arr, -arr)"
      ],
      "metadata": {
        "id": "PYlk71Rmr812"
      },
      "execution_count": null,
      "outputs": []
    },
    {
      "cell_type": "code",
      "source": [
        "arr_4"
      ],
      "metadata": {
        "colab": {
          "base_uri": "https://localhost:8080/"
        },
        "id": "WkRQUq6Wr_6R",
        "outputId": "642bb326-2e05-42cb-bcde-4d78af00f892"
      },
      "execution_count": null,
      "outputs": [
        {
          "output_type": "execute_result",
          "data": {
            "text/plain": [
              "array([[ 98,  73, -15,  74,  -5],\n",
              "       [-16, -26,  75,  79, -30],\n",
              "       [-39, -65, -54,  72,  82],\n",
              "       [-70, -63,  79, -24,  86],\n",
              "       [ 91, -13, -28,  87, -52]])"
            ]
          },
          "metadata": {},
          "execution_count": 43
        }
      ]
    },
    {
      "cell_type": "markdown",
      "source": [
        "## (6)Array 연산"
      ],
      "metadata": {
        "id": "bmuF8vhcsFED"
      }
    },
    {
      "cell_type": "markdown",
      "source": [
        "### Array 사칙 연산"
      ],
      "metadata": {
        "id": "vaNNeJYFsGsa"
      }
    },
    {
      "cell_type": "code",
      "source": [
        "x = np.array([[98, 73, 15, 74,  5],\n",
        "              [16, 26, 75, 79, 30],\n",
        "              [39, 65, 54, 72, 82],\n",
        "              [70, 63, 79, 24, 86],\n",
        "              [91, 13, 28, 87, 52]])"
      ],
      "metadata": {
        "id": "BhNkGiFxsAmD"
      },
      "execution_count": null,
      "outputs": []
    },
    {
      "cell_type": "code",
      "source": [
        "y = np.array([[12, 57, 61, 13, 29],\n",
        "              [ 9, 96,  5, 30, 21],\n",
        "              [ 9, 90,  5, 18, 45],\n",
        "              [75, 11, 79, 33, 31],\n",
        "              [ 5, 24,  1, 12, 93]])"
      ],
      "metadata": {
        "id": "xRHxxp0SsVrC"
      },
      "execution_count": null,
      "outputs": []
    },
    {
      "cell_type": "markdown",
      "source": [
        "#### array 덧셈연산"
      ],
      "metadata": {
        "id": "HMtpNb6hsh92"
      }
    },
    {
      "cell_type": "code",
      "source": [
        "x + y"
      ],
      "metadata": {
        "colab": {
          "base_uri": "https://localhost:8080/"
        },
        "id": "y0sJo6k7sgoP",
        "outputId": "04aa4068-3e93-411d-d754-e2205f0df193"
      },
      "execution_count": null,
      "outputs": [
        {
          "output_type": "execute_result",
          "data": {
            "text/plain": [
              "array([[110, 130,  76,  87,  34],\n",
              "       [ 25, 122,  80, 109,  51],\n",
              "       [ 48, 155,  59,  90, 127],\n",
              "       [145,  74, 158,  57, 117],\n",
              "       [ 96,  37,  29,  99, 145]])"
            ]
          },
          "metadata": {},
          "execution_count": 63
        }
      ]
    },
    {
      "cell_type": "markdown",
      "source": [
        "#### array 뺄셈연산"
      ],
      "metadata": {
        "id": "9NJ2Itxfskdm"
      }
    },
    {
      "cell_type": "code",
      "source": [
        "x - y"
      ],
      "metadata": {
        "colab": {
          "base_uri": "https://localhost:8080/"
        },
        "id": "a0Z5sfZ9skRV",
        "outputId": "2c4fbcae-92a8-4daa-981f-5c61cd4244e7"
      },
      "execution_count": null,
      "outputs": [
        {
          "output_type": "execute_result",
          "data": {
            "text/plain": [
              "array([[ 86,  16, -46,  61, -24],\n",
              "       [  7, -70,  70,  49,   9],\n",
              "       [ 30, -25,  49,  54,  37],\n",
              "       [ -5,  52,   0,  -9,  55],\n",
              "       [ 86, -11,  27,  75, -41]])"
            ]
          },
          "metadata": {},
          "execution_count": 49
        }
      ]
    },
    {
      "cell_type": "markdown",
      "source": [
        "#### array 곱셈 연산"
      ],
      "metadata": {
        "id": "CIKcr8M_sm3o"
      }
    },
    {
      "cell_type": "code",
      "source": [
        "x * y"
      ],
      "metadata": {
        "colab": {
          "base_uri": "https://localhost:8080/"
        },
        "id": "xr-2T83Wsms2",
        "outputId": "92693d67-c472-4e75-ddd4-45a6b12b1da5"
      },
      "execution_count": null,
      "outputs": [
        {
          "output_type": "execute_result",
          "data": {
            "text/plain": [
              "array([[1176, 4161,  915,  962,  145],\n",
              "       [ 144, 2496,  375, 2370,  630],\n",
              "       [ 351, 5850,  270, 1296, 3690],\n",
              "       [5250,  693, 6241,  792, 2666],\n",
              "       [ 455,  312,   28, 1044, 4836]])"
            ]
          },
          "metadata": {},
          "execution_count": 50
        }
      ]
    },
    {
      "cell_type": "markdown",
      "source": [
        "#### array 나눗셈 연산"
      ],
      "metadata": {
        "id": "IyOBo1e6spYY"
      }
    },
    {
      "cell_type": "code",
      "source": [
        "x / y"
      ],
      "metadata": {
        "colab": {
          "base_uri": "https://localhost:8080/"
        },
        "id": "x62dpuHNsoVt",
        "outputId": "88a8c1dc-9d5c-4046-8cce-4f4580937f7c"
      },
      "execution_count": null,
      "outputs": [
        {
          "output_type": "execute_result",
          "data": {
            "text/plain": [
              "array([[ 8.16666667,  1.28070175,  0.24590164,  5.69230769,  0.17241379],\n",
              "       [ 1.77777778,  0.27083333, 15.        ,  2.63333333,  1.42857143],\n",
              "       [ 4.33333333,  0.72222222, 10.8       ,  4.        ,  1.82222222],\n",
              "       [ 0.93333333,  5.72727273,  1.        ,  0.72727273,  2.77419355],\n",
              "       [18.2       ,  0.54166667, 28.        ,  7.25      ,  0.55913978]])"
            ]
          },
          "metadata": {},
          "execution_count": 51
        }
      ]
    },
    {
      "cell_type": "markdown",
      "source": [
        "#### array 제곱 연산"
      ],
      "metadata": {
        "id": "yd0cQy23sreu"
      }
    },
    {
      "cell_type": "code",
      "source": [
        "x ** 2"
      ],
      "metadata": {
        "colab": {
          "base_uri": "https://localhost:8080/"
        },
        "id": "tozPe6z0srAG",
        "outputId": "806c8647-651f-4a7d-b1e6-b17a40b129d2"
      },
      "execution_count": null,
      "outputs": [
        {
          "output_type": "execute_result",
          "data": {
            "text/plain": [
              "array([[9604, 5329,  225, 5476,   25],\n",
              "       [ 256,  676, 5625, 6241,  900],\n",
              "       [1521, 4225, 2916, 5184, 6724],\n",
              "       [4900, 3969, 6241,  576, 7396],\n",
              "       [8281,  169,  784, 7569, 2704]])"
            ]
          },
          "metadata": {},
          "execution_count": 52
        }
      ]
    },
    {
      "cell_type": "code",
      "source": [
        "x * 2"
      ],
      "metadata": {
        "colab": {
          "base_uri": "https://localhost:8080/"
        },
        "id": "-hIwsX58meYp",
        "outputId": "89721f15-f5ca-4d46-ed8c-d7b798976967"
      },
      "execution_count": null,
      "outputs": [
        {
          "output_type": "execute_result",
          "data": {
            "text/plain": [
              "array([[196, 146,  30, 148,  10],\n",
              "       [ 32,  52, 150, 158,  60],\n",
              "       [ 78, 130, 108, 144, 164],\n",
              "       [140, 126, 158,  48, 172],\n",
              "       [182,  26,  56, 174, 104]])"
            ]
          },
          "metadata": {},
          "execution_count": 65
        }
      ]
    },
    {
      "cell_type": "markdown",
      "source": [
        "### Array Dot product 연산"
      ],
      "metadata": {
        "id": "u_e4kGm-sv2r"
      }
    },
    {
      "cell_type": "code",
      "source": [
        "arr_1 = np.random.randint(1, 20, (2, 4))"
      ],
      "metadata": {
        "id": "3ojeLQvPstJu"
      },
      "execution_count": null,
      "outputs": []
    },
    {
      "cell_type": "code",
      "source": [
        "arr_2 = np.random.randint(1, 20, (4, 2))"
      ],
      "metadata": {
        "id": "mVgIlrfCs1r9"
      },
      "execution_count": null,
      "outputs": []
    },
    {
      "cell_type": "code",
      "source": [
        "arr_1"
      ],
      "metadata": {
        "colab": {
          "base_uri": "https://localhost:8080/"
        },
        "id": "CIkvbEjfs3h2",
        "outputId": "16a04d83-a609-45e2-d1e6-5eb1923285d2"
      },
      "execution_count": null,
      "outputs": [
        {
          "output_type": "execute_result",
          "data": {
            "text/plain": [
              "array([[12, 12,  1, 13],\n",
              "       [12,  6,  3,  8]])"
            ]
          },
          "metadata": {},
          "execution_count": 68
        }
      ]
    },
    {
      "cell_type": "code",
      "source": [
        "arr_2"
      ],
      "metadata": {
        "colab": {
          "base_uri": "https://localhost:8080/"
        },
        "id": "pDLEIaIis4JC",
        "outputId": "16e75630-41c2-4aa1-d7ce-473f763c9ce7"
      },
      "execution_count": null,
      "outputs": [
        {
          "output_type": "execute_result",
          "data": {
            "text/plain": [
              "array([[ 5,  6],\n",
              "       [ 3, 15],\n",
              "       [ 9,  9],\n",
              "       [ 5, 10]])"
            ]
          },
          "metadata": {},
          "execution_count": 69
        }
      ]
    },
    {
      "cell_type": "code",
      "source": [
        "np.dot(arr_1, arr_2)"
      ],
      "metadata": {
        "colab": {
          "base_uri": "https://localhost:8080/"
        },
        "id": "T3BjuWlvs4dY",
        "outputId": "a511f83a-ae2b-4f13-b702-3e5ae44f3202"
      },
      "execution_count": null,
      "outputs": [
        {
          "output_type": "execute_result",
          "data": {
            "text/plain": [
              "array([[170, 391],\n",
              "       [145, 269]])"
            ]
          },
          "metadata": {},
          "execution_count": 70
        }
      ]
    },
    {
      "cell_type": "markdown",
      "source": [
        "### Array Transpose 연산"
      ],
      "metadata": {
        "id": "wUWhX7R5tmvP"
      }
    },
    {
      "cell_type": "code",
      "source": [
        "arr = np.array([[98, 73, 15, 74,  5],\n",
        "                [16, 26, 75, 79, 30],\n",
        "                [39, 65, 54, 72, 82],\n",
        "                [70, 63, 79, 24, 86],\n",
        "                [91, 13, 28, 87, 52]])"
      ],
      "metadata": {
        "id": "LSJbmBCSs7G2"
      },
      "execution_count": null,
      "outputs": []
    },
    {
      "cell_type": "code",
      "source": [
        "arr.T"
      ],
      "metadata": {
        "colab": {
          "base_uri": "https://localhost:8080/"
        },
        "id": "H_JHrlc5ttXT",
        "outputId": "e8ea147f-dcc7-4a43-f05f-f0ff009e458c"
      },
      "execution_count": null,
      "outputs": [
        {
          "output_type": "execute_result",
          "data": {
            "text/plain": [
              "array([[98, 16, 39, 70, 91],\n",
              "       [73, 26, 65, 63, 13],\n",
              "       [15, 75, 54, 79, 28],\n",
              "       [74, 79, 72, 24, 87],\n",
              "       [ 5, 30, 82, 86, 52]])"
            ]
          },
          "metadata": {},
          "execution_count": 72
        }
      ]
    },
    {
      "cell_type": "code",
      "source": [
        "X  = np.random.randint(1, 20, (2, 4))\n",
        "W = np.random.randint(1, 20, (2, 4))"
      ],
      "metadata": {
        "id": "2p1--81rpn2J"
      },
      "execution_count": null,
      "outputs": []
    },
    {
      "cell_type": "code",
      "source": [
        "np.dot(X, W.T)"
      ],
      "metadata": {
        "colab": {
          "base_uri": "https://localhost:8080/"
        },
        "id": "hhrhADW2pr3Z",
        "outputId": "3da7553b-eab1-4081-b446-6e2eca921456"
      },
      "execution_count": null,
      "outputs": [
        {
          "output_type": "execute_result",
          "data": {
            "text/plain": [
              "array([[201, 245],\n",
              "       [402, 372]])"
            ]
          },
          "metadata": {},
          "execution_count": 75
        }
      ]
    },
    {
      "cell_type": "markdown",
      "source": [
        "### Array shuffle"
      ],
      "metadata": {
        "id": "2dU5YBy-uG4S"
      }
    },
    {
      "cell_type": "code",
      "source": [
        "arr = np.array([[98, 73, 15, 74,  5],\n",
        "                [16, 26, 75, 79, 30],\n",
        "                [39, 65, 54, 72, 82],\n",
        "                [70, 63, 79, 24, 86],\n",
        "                [91, 13, 28, 87, 52]])"
      ],
      "metadata": {
        "id": "tAHPeOBAuDEj"
      },
      "execution_count": null,
      "outputs": []
    },
    {
      "cell_type": "code",
      "source": [
        "np.random.shuffle(arr)"
      ],
      "metadata": {
        "id": "0L0SGCJBuWdw"
      },
      "execution_count": null,
      "outputs": []
    },
    {
      "cell_type": "code",
      "source": [
        "print(arr)"
      ],
      "metadata": {
        "colab": {
          "base_uri": "https://localhost:8080/"
        },
        "id": "NKe-mZA_uYk5",
        "outputId": "ecdf8215-53d5-472a-edef-dfac3ba34b96"
      },
      "execution_count": null,
      "outputs": [
        {
          "output_type": "stream",
          "name": "stdout",
          "text": [
            "[[98 73 15 74  5]\n",
            " [39 65 54 72 82]\n",
            " [16 26 75 79 30]\n",
            " [91 13 28 87 52]\n",
            " [70 63 79 24 86]]\n"
          ]
        }
      ]
    },
    {
      "cell_type": "markdown",
      "source": [
        "### Array Sampling\n"
      ],
      "metadata": {
        "id": "sCnQJU5LueOa"
      }
    },
    {
      "cell_type": "code",
      "source": [
        "arr = np.array([[98, 73, 15, 74,  5],\n",
        "                [16, 26, 75, 79, 30],\n",
        "                [39, 65, 54, 72, 82],\n",
        "                [70, 63, 79, 24, 86],\n",
        "                [91, 13, 28, 87, 52]])"
      ],
      "metadata": {
        "id": "yr5sa_KWuY5W"
      },
      "execution_count": null,
      "outputs": []
    },
    {
      "cell_type": "code",
      "source": [
        "np.random.choice(arr, 3)"
      ],
      "metadata": {
        "colab": {
          "base_uri": "https://localhost:8080/",
          "height": 182
        },
        "id": "FG8HcsJDuvb5",
        "outputId": "4f8111af-914d-4201-b5cb-3be48907f255"
      },
      "execution_count": null,
      "outputs": [
        {
          "output_type": "error",
          "ename": "ValueError",
          "evalue": "a must be 1-dimensional",
          "traceback": [
            "\u001b[0;31m---------------------------------------------------------------------------\u001b[0m",
            "\u001b[0;31mValueError\u001b[0m                                Traceback (most recent call last)",
            "\u001b[0;32m<ipython-input-80-4a056cd92d28>\u001b[0m in \u001b[0;36m<cell line: 1>\u001b[0;34m()\u001b[0m\n\u001b[0;32m----> 1\u001b[0;31m \u001b[0mnp\u001b[0m\u001b[0;34m.\u001b[0m\u001b[0mrandom\u001b[0m\u001b[0;34m.\u001b[0m\u001b[0mchoice\u001b[0m\u001b[0;34m(\u001b[0m\u001b[0marr\u001b[0m\u001b[0;34m,\u001b[0m \u001b[0;36m3\u001b[0m\u001b[0;34m)\u001b[0m\u001b[0;34m\u001b[0m\u001b[0;34m\u001b[0m\u001b[0m\n\u001b[0m",
            "\u001b[0;32mmtrand.pyx\u001b[0m in \u001b[0;36mnumpy.random.mtrand.RandomState.choice\u001b[0;34m()\u001b[0m\n",
            "\u001b[0;31mValueError\u001b[0m: a must be 1-dimensional"
          ]
        }
      ]
    },
    {
      "cell_type": "code",
      "source": [
        "arr = arr.flatten()"
      ],
      "metadata": {
        "id": "eIypSCjIvEf8"
      },
      "execution_count": null,
      "outputs": []
    },
    {
      "cell_type": "code",
      "source": [
        "arr.shape"
      ],
      "metadata": {
        "colab": {
          "base_uri": "https://localhost:8080/"
        },
        "id": "jfq1Xnu0vKF-",
        "outputId": "ee7ddb91-f6d0-4c43-b62c-d7ea69fd089b"
      },
      "execution_count": null,
      "outputs": [
        {
          "output_type": "execute_result",
          "data": {
            "text/plain": [
              "(25,)"
            ]
          },
          "metadata": {},
          "execution_count": 82
        }
      ]
    },
    {
      "cell_type": "markdown",
      "source": [
        "#### 복원추출"
      ],
      "metadata": {
        "id": "67rhLALsvSw2"
      }
    },
    {
      "cell_type": "code",
      "source": [
        "np.random.choice(arr, 3)"
      ],
      "metadata": {
        "colab": {
          "base_uri": "https://localhost:8080/"
        },
        "id": "uZq6d3tNvBef",
        "outputId": "6b4cc866-648b-4c28-80da-4964d936d43d"
      },
      "execution_count": null,
      "outputs": [
        {
          "output_type": "execute_result",
          "data": {
            "text/plain": [
              "array([98, 79, 91])"
            ]
          },
          "metadata": {},
          "execution_count": 83
        }
      ]
    },
    {
      "cell_type": "code",
      "source": [
        "np.random.choice(arr, 3)"
      ],
      "metadata": {
        "colab": {
          "base_uri": "https://localhost:8080/"
        },
        "id": "YPQ_s4GDvMzL",
        "outputId": "9b6300ff-0dae-403a-dd25-9f95d3585c96"
      },
      "execution_count": null,
      "outputs": [
        {
          "output_type": "execute_result",
          "data": {
            "text/plain": [
              "array([28, 54, 26])"
            ]
          },
          "metadata": {},
          "execution_count": 84
        }
      ]
    },
    {
      "cell_type": "code",
      "source": [
        "np.random.choice(arr, 3)"
      ],
      "metadata": {
        "colab": {
          "base_uri": "https://localhost:8080/"
        },
        "id": "8H-Cyjd-vO13",
        "outputId": "996ef1c5-556e-4cbd-a54f-62a8e0fd9a6f"
      },
      "execution_count": null,
      "outputs": [
        {
          "output_type": "execute_result",
          "data": {
            "text/plain": [
              "array([39, 39, 74])"
            ]
          },
          "metadata": {},
          "execution_count": 74
        }
      ]
    },
    {
      "cell_type": "markdown",
      "source": [
        "#### 비복원추출"
      ],
      "metadata": {
        "id": "wn6Y09oSvRrX"
      }
    },
    {
      "cell_type": "code",
      "source": [
        "np.random.choice(arr, 3, replace = False)"
      ],
      "metadata": {
        "colab": {
          "base_uri": "https://localhost:8080/"
        },
        "id": "Bl3RdoPpvQd2",
        "outputId": "6b00266e-ff87-41ac-9916-2a7c7a7eb361"
      },
      "execution_count": null,
      "outputs": [
        {
          "output_type": "execute_result",
          "data": {
            "text/plain": [
              "array([79, 63, 39])"
            ]
          },
          "metadata": {},
          "execution_count": 76
        }
      ]
    },
    {
      "cell_type": "code",
      "source": [],
      "metadata": {
        "id": "oRYNsf49vXVt"
      },
      "execution_count": null,
      "outputs": []
    }
  ]
}